{
 "cells": [
  {
   "cell_type": "code",
   "execution_count": null,
   "id": "022b37c5",
   "metadata": {},
   "outputs": [],
   "source": [
    "#Lists\n",
    "#Tuple\n",
    "#sets\n",
    "#Dict"
   ]
  },
  {
   "cell_type": "code",
   "execution_count": null,
   "id": "a4422133",
   "metadata": {},
   "outputs": [],
   "source": [
    "#Data Structures "
   ]
  },
  {
   "cell_type": "code",
   "execution_count": null,
   "id": "793d709d",
   "metadata": {},
   "outputs": [],
   "source": [
    "#data types "
   ]
  },
  {
   "cell_type": "code",
   "execution_count": 1,
   "id": "44bf2bef",
   "metadata": {},
   "outputs": [],
   "source": [
    "a = 3"
   ]
  },
  {
   "cell_type": "code",
   "execution_count": 2,
   "id": "46d47a98",
   "metadata": {},
   "outputs": [
    {
     "data": {
      "text/plain": [
       "int"
      ]
     },
     "execution_count": 2,
     "metadata": {},
     "output_type": "execute_result"
    }
   ],
   "source": [
    "type(a)"
   ]
  },
  {
   "cell_type": "code",
   "execution_count": 3,
   "id": "702b15b2",
   "metadata": {},
   "outputs": [],
   "source": [
    "a = 'hello'"
   ]
  },
  {
   "cell_type": "code",
   "execution_count": 4,
   "id": "b4a427d0",
   "metadata": {},
   "outputs": [
    {
     "data": {
      "text/plain": [
       "str"
      ]
     },
     "execution_count": 4,
     "metadata": {},
     "output_type": "execute_result"
    }
   ],
   "source": [
    "type(a)"
   ]
  },
  {
   "cell_type": "code",
   "execution_count": 5,
   "id": "b735f068",
   "metadata": {},
   "outputs": [],
   "source": [
    "a = [] #lists "
   ]
  },
  {
   "cell_type": "code",
   "execution_count": 6,
   "id": "df2154f0",
   "metadata": {},
   "outputs": [
    {
     "data": {
      "text/plain": [
       "list"
      ]
     },
     "execution_count": 6,
     "metadata": {},
     "output_type": "execute_result"
    }
   ],
   "source": [
    "type(a)"
   ]
  },
  {
   "cell_type": "code",
   "execution_count": 7,
   "id": "3576fc1e",
   "metadata": {},
   "outputs": [],
   "source": [
    "x = [1, 'hello', 3.2, '3.2']"
   ]
  },
  {
   "cell_type": "code",
   "execution_count": 16,
   "id": "f84cde8c",
   "metadata": {},
   "outputs": [
    {
     "data": {
      "text/plain": [
       "3.2"
      ]
     },
     "execution_count": 16,
     "metadata": {},
     "output_type": "execute_result"
    }
   ],
   "source": [
    "x[-2]"
   ]
  },
  {
   "cell_type": "code",
   "execution_count": 26,
   "id": "5dc72296",
   "metadata": {},
   "outputs": [],
   "source": [
    "z = ['a', 'b' , 'c', 'd', [5,7,5,1]]"
   ]
  },
  {
   "cell_type": "code",
   "execution_count": 20,
   "id": "3457303e",
   "metadata": {},
   "outputs": [
    {
     "data": {
      "text/plain": [
       "[5, 7, 5, 1]"
      ]
     },
     "execution_count": 20,
     "metadata": {},
     "output_type": "execute_result"
    }
   ],
   "source": [
    "z[2]"
   ]
  },
  {
   "cell_type": "code",
   "execution_count": 24,
   "id": "daa6331f",
   "metadata": {},
   "outputs": [
    {
     "data": {
      "text/plain": [
       "[5, 7, 5, 1]"
      ]
     },
     "execution_count": 24,
     "metadata": {},
     "output_type": "execute_result"
    }
   ],
   "source": [
    "z[2]"
   ]
  },
  {
   "cell_type": "code",
   "execution_count": 33,
   "id": "6329a5a3",
   "metadata": {},
   "outputs": [
    {
     "data": {
      "text/plain": [
       "[[5, 7, 5, 1], 'c', 'a']"
      ]
     },
     "execution_count": 33,
     "metadata": {},
     "output_type": "execute_result"
    }
   ],
   "source": [
    " z[::-2] #start:stop:step"
   ]
  },
  {
   "cell_type": "code",
   "execution_count": 34,
   "id": "ee7e6fde",
   "metadata": {},
   "outputs": [],
   "source": [
    "#inbuild\n"
   ]
  },
  {
   "cell_type": "code",
   "execution_count": 48,
   "id": "0c2de68c",
   "metadata": {},
   "outputs": [],
   "source": [
    "z = [1, 2, 3, 4, 5, 6, 7]\n",
    "y = [1,2,3]"
   ]
  },
  {
   "cell_type": "code",
   "execution_count": 38,
   "id": "a0752c0f",
   "metadata": {},
   "outputs": [
    {
     "data": {
      "text/plain": [
       "10"
      ]
     },
     "execution_count": 38,
     "metadata": {},
     "output_type": "execute_result"
    }
   ],
   "source": [
    "sum(z)"
   ]
  },
  {
   "cell_type": "code",
   "execution_count": 47,
   "id": "2f864af0",
   "metadata": {},
   "outputs": [
    {
     "data": {
      "text/plain": [
       "[1, 3]"
      ]
     },
     "execution_count": 47,
     "metadata": {},
     "output_type": "execute_result"
    }
   ],
   "source": [
    "z[0:3:2]"
   ]
  },
  {
   "cell_type": "code",
   "execution_count": 44,
   "id": "33a0d524",
   "metadata": {},
   "outputs": [],
   "source": [
    "#start:stop:step"
   ]
  },
  {
   "cell_type": "code",
   "execution_count": 45,
   "id": "787ce723",
   "metadata": {},
   "outputs": [
    {
     "data": {
      "text/plain": [
       "[1, 2, 3, 4, 5, 6, 7]"
      ]
     },
     "execution_count": 45,
     "metadata": {},
     "output_type": "execute_result"
    }
   ],
   "source": [
    "z"
   ]
  },
  {
   "cell_type": "code",
   "execution_count": null,
   "id": "2a5faecb",
   "metadata": {},
   "outputs": [],
   "source": [
    "#append()\n",
    "#extend()\n",
    "#pop()"
   ]
  },
  {
   "cell_type": "code",
   "execution_count": 51,
   "id": "c34d8d00",
   "metadata": {},
   "outputs": [
    {
     "data": {
      "text/plain": [
       "3"
      ]
     },
     "execution_count": 51,
     "metadata": {},
     "output_type": "execute_result"
    }
   ],
   "source": [
    "x = 2\n",
    "y = 1\n",
    "x + y"
   ]
  },
  {
   "cell_type": "code",
   "execution_count": 53,
   "id": "ed594233",
   "metadata": {},
   "outputs": [
    {
     "data": {
      "text/plain": [
       "3"
      ]
     },
     "execution_count": 53,
     "metadata": {},
     "output_type": "execute_result"
    }
   ],
   "source": [
    "add(,1)"
   ]
  },
  {
   "cell_type": "code",
   "execution_count": 54,
   "id": "a7664849",
   "metadata": {},
   "outputs": [],
   "source": [
    "a = 'Abhijith'"
   ]
  },
  {
   "cell_type": "code",
   "execution_count": 57,
   "id": "1e5b9949",
   "metadata": {},
   "outputs": [],
   "source": [
    "list1 = list(a)"
   ]
  },
  {
   "cell_type": "code",
   "execution_count": 56,
   "id": "3e8c46fc",
   "metadata": {},
   "outputs": [
    {
     "data": {
      "text/plain": [
       "'Abhijith'"
      ]
     },
     "execution_count": 56,
     "metadata": {},
     "output_type": "execute_result"
    }
   ],
   "source": [
    "a"
   ]
  },
  {
   "cell_type": "code",
   "execution_count": 58,
   "id": "e505a764",
   "metadata": {},
   "outputs": [],
   "source": [
    "list1.append('z')"
   ]
  },
  {
   "cell_type": "code",
   "execution_count": 59,
   "id": "2e4ed0ad",
   "metadata": {},
   "outputs": [
    {
     "data": {
      "text/plain": [
       "['A', 'b', 'h', 'i', 'j', 'i', 't', 'h', 'z']"
      ]
     },
     "execution_count": 59,
     "metadata": {},
     "output_type": "execute_result"
    }
   ],
   "source": [
    "list1"
   ]
  },
  {
   "cell_type": "code",
   "execution_count": null,
   "id": "c476c8b7",
   "metadata": {},
   "outputs": [],
   "source": [
    "#end of the list \n",
    "\n"
   ]
  },
  {
   "cell_type": "code",
   "execution_count": 62,
   "id": "8ad10074",
   "metadata": {},
   "outputs": [],
   "source": [
    "#insert \n",
    "\n",
    "list1.insert(5,'Z')"
   ]
  },
  {
   "cell_type": "code",
   "execution_count": 63,
   "id": "a8c7e168",
   "metadata": {},
   "outputs": [
    {
     "data": {
      "text/plain": [
       "['Z', 'A', 'b', 'h', 'i', 'Z', 'j', 'i', 't', 'h', 'z']"
      ]
     },
     "execution_count": 63,
     "metadata": {},
     "output_type": "execute_result"
    }
   ],
   "source": [
    "list1"
   ]
  },
  {
   "cell_type": "code",
   "execution_count": 64,
   "id": "ad543fe5",
   "metadata": {},
   "outputs": [],
   "source": [
    "z = [1, 2, 3, 4, 5, 6, 7]"
   ]
  },
  {
   "cell_type": "code",
   "execution_count": 65,
   "id": "49ad2c31",
   "metadata": {},
   "outputs": [
    {
     "data": {
      "text/plain": [
       "28"
      ]
     },
     "execution_count": 65,
     "metadata": {},
     "output_type": "execute_result"
    }
   ],
   "source": [
    "sum(z)"
   ]
  },
  {
   "cell_type": "code",
   "execution_count": 67,
   "id": "743012c6",
   "metadata": {},
   "outputs": [
    {
     "name": "stdout",
     "output_type": "stream",
     "text": [
      "28\n"
     ]
    }
   ],
   "source": [
    "sum = 0\n",
    "for item in z:\n",
    "    sum = sum + item\n",
    "print(sum) "
   ]
  },
  {
   "cell_type": "code",
   "execution_count": 76,
   "id": "e5f2c58f",
   "metadata": {},
   "outputs": [],
   "source": [
    "abhi = 5"
   ]
  },
  {
   "cell_type": "code",
   "execution_count": 69,
   "id": "1c74905e",
   "metadata": {},
   "outputs": [],
   "source": [
    "z = ['a', 'b', 'a', 'b', 'c', 'a']"
   ]
  },
  {
   "cell_type": "code",
   "execution_count": 70,
   "id": "1060156c",
   "metadata": {},
   "outputs": [
    {
     "data": {
      "text/plain": [
       "3"
      ]
     },
     "execution_count": 70,
     "metadata": {},
     "output_type": "execute_result"
    }
   ],
   "source": [
    "z.count('a')"
   ]
  },
  {
   "cell_type": "code",
   "execution_count": 77,
   "id": "f3fe03cf",
   "metadata": {},
   "outputs": [],
   "source": [
    "a = abhi"
   ]
  },
  {
   "cell_type": "code",
   "execution_count": 78,
   "id": "1671e8c2",
   "metadata": {},
   "outputs": [
    {
     "data": {
      "text/plain": [
       "int"
      ]
     },
     "execution_count": 78,
     "metadata": {},
     "output_type": "execute_result"
    }
   ],
   "source": [
    "type(a)"
   ]
  },
  {
   "cell_type": "code",
   "execution_count": null,
   "id": "01880072",
   "metadata": {},
   "outputs": [],
   "source": [
    "[] #lists\n",
    "() #tuple\n",
    "{} #set\n",
    "\n"
   ]
  },
  {
   "cell_type": "code",
   "execution_count": 122,
   "id": "42e68ae4",
   "metadata": {},
   "outputs": [],
   "source": [
    "z = ['a','b']"
   ]
  },
  {
   "cell_type": "code",
   "execution_count": 111,
   "id": "e9942203",
   "metadata": {},
   "outputs": [],
   "source": [
    "z.pop()"
   ]
  },
  {
   "cell_type": "code",
   "execution_count": 112,
   "id": "87fa28d6",
   "metadata": {},
   "outputs": [
    {
     "data": {
      "text/plain": [
       "['b', 'a', 'b', 'c', 'a']"
      ]
     },
     "execution_count": 112,
     "metadata": {},
     "output_type": "execute_result"
    }
   ],
   "source": [
    "z"
   ]
  },
  {
   "cell_type": "code",
   "execution_count": 115,
   "id": "d39a07bc",
   "metadata": {},
   "outputs": [],
   "source": [
    "z = [1,2,3]"
   ]
  },
  {
   "cell_type": "code",
   "execution_count": 123,
   "id": "60232d41",
   "metadata": {},
   "outputs": [
    {
     "data": {
      "text/plain": [
       "'1'"
      ]
     },
     "execution_count": 123,
     "metadata": {},
     "output_type": "execute_result"
    }
   ],
   "source": [
    "min(z)"
   ]
  },
  {
   "cell_type": "code",
   "execution_count": 125,
   "id": "de942cc6",
   "metadata": {},
   "outputs": [
    {
     "data": {
      "text/plain": [
       "'2'"
      ]
     },
     "execution_count": 125,
     "metadata": {},
     "output_type": "execute_result"
    }
   ],
   "source": [
    "max(z)"
   ]
  },
  {
   "cell_type": "code",
   "execution_count": 215,
   "id": "133892a8",
   "metadata": {},
   "outputs": [],
   "source": [
    "z = [3, 4, 1, 7, 9]"
   ]
  },
  {
   "cell_type": "code",
   "execution_count": 214,
   "id": "909577eb",
   "metadata": {},
   "outputs": [
    {
     "data": {
      "text/plain": [
       "9"
      ]
     },
     "execution_count": 214,
     "metadata": {},
     "output_type": "execute_result"
    }
   ],
   "source": [
    "z[-1]"
   ]
  },
  {
   "cell_type": "code",
   "execution_count": 216,
   "id": "2b025fae",
   "metadata": {},
   "outputs": [
    {
     "data": {
      "text/plain": [
       "[3, 4, 1, 7, 9]"
      ]
     },
     "execution_count": 216,
     "metadata": {},
     "output_type": "execute_result"
    }
   ],
   "source": [
    "z[:]"
   ]
  },
  {
   "cell_type": "code",
   "execution_count": 220,
   "id": "dd21eafc",
   "metadata": {},
   "outputs": [
    {
     "data": {
      "text/plain": [
       "[3, 4, 1, 7]"
      ]
     },
     "execution_count": 220,
     "metadata": {},
     "output_type": "execute_result"
    }
   ],
   "source": [
    "z[:-1]"
   ]
  },
  {
   "cell_type": "code",
   "execution_count": null,
   "id": "90087c50",
   "metadata": {},
   "outputs": [],
   "source": []
  }
 ],
 "metadata": {
  "kernelspec": {
   "display_name": "Python 3 (ipykernel)",
   "language": "python",
   "name": "python3"
  },
  "language_info": {
   "codemirror_mode": {
    "name": "ipython",
    "version": 3
   },
   "file_extension": ".py",
   "mimetype": "text/x-python",
   "name": "python",
   "nbconvert_exporter": "python",
   "pygments_lexer": "ipython3",
   "version": "3.9.7"
  }
 },
 "nbformat": 4,
 "nbformat_minor": 5
}
