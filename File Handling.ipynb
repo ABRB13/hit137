{
 "cells": [
  {
   "cell_type": "code",
   "execution_count": 2,
   "id": "6dfbe084",
   "metadata": {},
   "outputs": [],
   "source": [
    "file = open('text.txt', 'r')\n",
    "file.read()\n",
    "print(file)"
   ]
  },
  {
   "cell_type": "code",
   "execution_count": 5,
   "id": "a715c1d5",
   "metadata": {},
   "outputs": [
    {
     "name": "stdout",
     "output_type": "stream",
     "text": [
      "hello 123\n",
      "esdfsedf\n",
      "\n",
      "sdfsdfs\n",
      "sdfsd\n",
      "\n",
      "f\n",
      "sdfsdf\n",
      "s\n",
      "dfsdf\n",
      "\n",
      "sdf\n",
      "\n"
     ]
    }
   ],
   "source": [
    "with open('text.txt') as file:\n",
    "    content = file.read()\n",
    "    \n",
    "    print(content)"
   ]
  },
  {
   "cell_type": "code",
   "execution_count": 4,
   "id": "5a4749b6",
   "metadata": {},
   "outputs": [],
   "source": [
    "file_path = 'C:\\"
   ]
  },
  {
   "cell_type": "code",
   "execution_count": 6,
   "id": "f9933e30",
   "metadata": {},
   "outputs": [
    {
     "name": "stdout",
     "output_type": "stream",
     "text": [
      "['hello 123\\n', 'esdfsedf\\n', '\\n', 'sdfsdfs\\n', 'sdfsd\\n', '\\n', 'f\\n', 'sdfsdf\\n', 's\\n', 'dfsdf\\n', '\\n', 'sdf\\n']\n"
     ]
    }
   ],
   "source": [
    "with open('text.txt') as file:\n",
    "    content = file.readlines()\n",
    "    \n",
    "    print(content)"
   ]
  },
  {
   "cell_type": "code",
   "execution_count": 8,
   "id": "39780b07",
   "metadata": {},
   "outputs": [
    {
     "data": {
      "text/plain": [
       "'hello 123\\n'"
      ]
     },
     "execution_count": 8,
     "metadata": {},
     "output_type": "execute_result"
    }
   ],
   "source": [
    "content[0]"
   ]
  },
  {
   "cell_type": "code",
   "execution_count": 10,
   "id": "f4e99b61",
   "metadata": {},
   "outputs": [],
   "source": [
    "sp = content[0].split()"
   ]
  },
  {
   "cell_type": "code",
   "execution_count": 11,
   "id": "a8e78fdf",
   "metadata": {},
   "outputs": [
    {
     "data": {
      "text/plain": [
       "['hello', '123']"
      ]
     },
     "execution_count": 11,
     "metadata": {},
     "output_type": "execute_result"
    }
   ],
   "source": [
    "sp"
   ]
  },
  {
   "cell_type": "code",
   "execution_count": 12,
   "id": "ab81f51e",
   "metadata": {},
   "outputs": [],
   "source": [
    "#writing the files\n",
    "\n",
    "filename = 'newfile.txt'"
   ]
  },
  {
   "cell_type": "code",
   "execution_count": null,
   "id": "e9903f0e",
   "metadata": {},
   "outputs": [],
   "source": [
    "filename = input('Enter File Name: ')"
   ]
  },
  {
   "cell_type": "code",
   "execution_count": 35,
   "id": "c87d98a7",
   "metadata": {},
   "outputs": [
    {
     "name": "stdout",
     "output_type": "stream",
     "text": [
      "python program dwf\n"
     ]
    }
   ],
   "source": [
    "with open('C:/Users/localadmin/Downloads/abhijith.txt') as file:\n",
    "    content = file.read()\n",
    "    file.close()\n",
    "    \n",
    "print(content)"
   ]
  },
  {
   "cell_type": "code",
   "execution_count": null,
   "id": "f6a0aff2",
   "metadata": {},
   "outputs": [],
   "source": []
  },
  {
   "cell_type": "code",
   "execution_count": null,
   "id": "9d06e2c3",
   "metadata": {},
   "outputs": [],
   "source": [
    "with open('C:/Users/localadmin/Desktop/abhijith.text', 'w') as file:\n",
    "    file.write(content)"
   ]
  },
  {
   "cell_type": "code",
   "execution_count": 17,
   "id": "73f49cd5",
   "metadata": {},
   "outputs": [],
   "source": [
    "with open(filename, 'w') as file:\n",
    "    file.write('python program\\n')\n",
    "    file.write('sdlflkjk\\n')\n",
    "    "
   ]
  },
  {
   "cell_type": "code",
   "execution_count": 18,
   "id": "ec570ab6",
   "metadata": {},
   "outputs": [
    {
     "name": "stdout",
     "output_type": "stream",
     "text": [
      "hello \n",
      " assdkj\n"
     ]
    }
   ],
   "source": [
    "print('hello \\n assdkj')"
   ]
  },
  {
   "cell_type": "code",
   "execution_count": 29,
   "id": "3f1b83ce",
   "metadata": {},
   "outputs": [],
   "source": [
    "filepath = 'C:/Users/localadmin/Downloads/abhijith.txt'"
   ]
  },
  {
   "cell_type": "code",
   "execution_count": 31,
   "id": "74e80629",
   "metadata": {},
   "outputs": [],
   "source": [
    "filepath = 'C:/Users/localadmin/Downloads/newfile.txt'"
   ]
  },
  {
   "cell_type": "code",
   "execution_count": null,
   "id": "0e12a866",
   "metadata": {},
   "outputs": [],
   "source": []
  },
  {
   "cell_type": "code",
   "execution_count": 45,
   "id": "5901f0ad",
   "metadata": {},
   "outputs": [],
   "source": [
    "#appending to a file\n",
    "\n",
    "with open('hello.txt', 'w') as file:\n",
    "    file.write('python program\\n')\n",
    "    file.write('sdlflkjk\\n')\n",
    "    file.write('sdkjfn\\n')\n",
    "    file.write('python program\\n')\n",
    "    file.write('sdlflkjk\\n')\n",
    "    file.write('sdkjfn\\n')\n",
    "    file.write('python program\\n')\n",
    "    file.write('sdlflkjk\\n')\n",
    "    file.write('sdkjfn\\n')\n",
    "file.close()"
   ]
  },
  {
   "cell_type": "code",
   "execution_count": 46,
   "id": "89689ad9",
   "metadata": {},
   "outputs": [],
   "source": [
    "with open('hello.txt', 'a') as file:\n",
    "    file.write('123\\n')\n",
    "    file.write('4253\\n')\n",
    "file.close()"
   ]
  },
  {
   "cell_type": "code",
   "execution_count": 47,
   "id": "50764b6d",
   "metadata": {},
   "outputs": [
    {
     "name": "stdout",
     "output_type": "stream",
     "text": [
      "['python program\\n', 'sdlflkjk\\n', 'sdkjfn\\n', 'python program\\n', 'sdlflkjk\\n', 'sdkjfn\\n', 'python program\\n', 'sdlflkjk\\n', 'sdkjfn\\n', '123\\n', '4253\\n']\n"
     ]
    }
   ],
   "source": [
    "with open('hello.txt') as file:\n",
    "    content = file.split()\n",
    "    print(content)"
   ]
  },
  {
   "cell_type": "code",
   "execution_count": 48,
   "id": "9aef2f7c",
   "metadata": {},
   "outputs": [
    {
     "data": {
      "text/plain": [
       "['python program\\n',\n",
       " 'sdlflkjk\\n',\n",
       " 'sdkjfn\\n',\n",
       " 'python program\\n',\n",
       " 'sdlflkjk\\n',\n",
       " 'sdkjfn\\n',\n",
       " 'python program\\n',\n",
       " 'sdlflkjk\\n',\n",
       " 'sdkjfn\\n',\n",
       " '123\\n',\n",
       " '4253\\n']"
      ]
     },
     "execution_count": 48,
     "metadata": {},
     "output_type": "execute_result"
    }
   ],
   "source": [
    "content"
   ]
  },
  {
   "cell_type": "code",
   "execution_count": 50,
   "id": "22c897cc",
   "metadata": {},
   "outputs": [],
   "source": [
    "content.insert(4,'123')"
   ]
  },
  {
   "cell_type": "code",
   "execution_count": 51,
   "id": "f3a7af7b",
   "metadata": {},
   "outputs": [
    {
     "data": {
      "text/plain": [
       "['python program\\n',\n",
       " 'sdlflkjk\\n',\n",
       " 'sdkjfn\\n',\n",
       " 'python program\\n',\n",
       " '123',\n",
       " 'sdlflkjk\\n',\n",
       " 'sdkjfn\\n',\n",
       " 'python program\\n',\n",
       " 'sdlflkjk\\n',\n",
       " 'sdkjfn\\n',\n",
       " '123\\n',\n",
       " '4253\\n']"
      ]
     },
     "execution_count": 51,
     "metadata": {},
     "output_type": "execute_result"
    }
   ],
   "source": [
    "content"
   ]
  },
  {
   "cell_type": "code",
   "execution_count": 52,
   "id": "4ab69fd2",
   "metadata": {},
   "outputs": [
    {
     "data": {
      "text/plain": [
       "'python program\\n sdlflkjk\\n sdkjfn\\n python program\\n 123 sdlflkjk\\n sdkjfn\\n python program\\n sdlflkjk\\n sdkjfn\\n 123\\n 4253\\n'"
      ]
     },
     "execution_count": 52,
     "metadata": {},
     "output_type": "execute_result"
    }
   ],
   "source": [
    "' '.join(content)"
   ]
  },
  {
   "cell_type": "code",
   "execution_count": 57,
   "id": "b922469c",
   "metadata": {},
   "outputs": [],
   "source": [
    "with open('num.txt', 'w') as file:\n",
    "    file.write('123')\n",
    "    file.write('234')\n",
    "file.close()"
   ]
  },
  {
   "cell_type": "code",
   "execution_count": 58,
   "id": "807766b6",
   "metadata": {},
   "outputs": [
    {
     "name": "stdout",
     "output_type": "stream",
     "text": [
      "123234\n"
     ]
    }
   ],
   "source": [
    "with open('num.txt', 'r') as file:\n",
    "    content = file.read()\n",
    "print(content)\n",
    "    \n",
    "    "
   ]
  },
  {
   "cell_type": "code",
   "execution_count": 59,
   "id": "482f43e3",
   "metadata": {},
   "outputs": [
    {
     "name": "stdout",
     "output_type": "stream",
     "text": [
      "1\n",
      "2\n",
      "3\n",
      "2\n",
      "3\n",
      "4\n"
     ]
    }
   ],
   "source": [
    "for i in content:\n",
    "    print(i)"
   ]
  },
  {
   "cell_type": "code",
   "execution_count": 68,
   "id": "d3bb1703",
   "metadata": {},
   "outputs": [
    {
     "name": "stdout",
     "output_type": "stream",
     "text": [
      "['1', '2', '3', '5', '6', '4']\n",
      "['a', 'b', 'c', 'a', 'b', 'c', '\\n']\n"
     ]
    }
   ],
   "source": [
    "with open('num.txt', 'r') as file:\n",
    "    content = file.read()\n",
    "    numbers = []\n",
    "    letter = []\n",
    "    for i in content:\n",
    "        if i.isdigit() == True:\n",
    "            numbers.append(i)\n",
    "        else:\n",
    "            letter.append(i)\n",
    "file.close()\n",
    "print(numbers)\n",
    "print(letter)"
   ]
  },
  {
   "cell_type": "code",
   "execution_count": 62,
   "id": "00eb2f60",
   "metadata": {},
   "outputs": [
    {
     "data": {
      "text/plain": [
       "15"
      ]
     },
     "execution_count": 62,
     "metadata": {},
     "output_type": "execute_result"
    }
   ],
   "source": []
  },
  {
   "cell_type": "code",
   "execution_count": 65,
   "id": "2c9b3dae",
   "metadata": {},
   "outputs": [],
   "source": [
    "n = [1, 2]"
   ]
  },
  {
   "cell_type": "code",
   "execution_count": null,
   "id": "84114d59",
   "metadata": {},
   "outputs": [],
   "source": [
    "ori = ABC\n",
    "\n",
    "shift key = +3 \n",
    "\n",
    "encrypt = DEF\n",
    "\n",
    "shift key = -3 \n",
    "dec = ABC"
   ]
  }
 ],
 "metadata": {
  "kernelspec": {
   "display_name": "Python 3 (ipykernel)",
   "language": "python",
   "name": "python3"
  },
  "language_info": {
   "codemirror_mode": {
    "name": "ipython",
    "version": 3
   },
   "file_extension": ".py",
   "mimetype": "text/x-python",
   "name": "python",
   "nbconvert_exporter": "python",
   "pygments_lexer": "ipython3",
   "version": "3.9.7"
  }
 },
 "nbformat": 4,
 "nbformat_minor": 5
}
