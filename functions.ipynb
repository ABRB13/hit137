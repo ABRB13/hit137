{
 "cells": [
  {
   "cell_type": "code",
   "execution_count": 7,
   "id": "b0955cc2",
   "metadata": {},
   "outputs": [
    {
     "data": {
      "text/plain": [
       "20"
      ]
     },
     "execution_count": 7,
     "metadata": {},
     "output_type": "execute_result"
    }
   ],
   "source": [
    "#absolute value \n",
    "\n",
    "integer = -20\n",
    "abs(integer)"
   ]
  },
  {
   "cell_type": "code",
   "execution_count": null,
   "id": "2510d884",
   "metadata": {},
   "outputs": [],
   "source": [
    "#enumerate()\n",
    "\n",
    "\n",
    "#enumerate(iterable, start = 0)"
   ]
  },
  {
   "cell_type": "code",
   "execution_count": 8,
   "id": "73cc2710",
   "metadata": {},
   "outputs": [],
   "source": [
    "list1 = ['apple', 'orange', 'milk']"
   ]
  },
  {
   "cell_type": "code",
   "execution_count": 12,
   "id": "d0a916dd",
   "metadata": {},
   "outputs": [],
   "source": [
    "enum = enumerate(list1)"
   ]
  },
  {
   "cell_type": "code",
   "execution_count": 15,
   "id": "2deb3687",
   "metadata": {},
   "outputs": [
    {
     "name": "stdout",
     "output_type": "stream",
     "text": [
      "[(0, 'apple'), (1, 'orange'), (2, 'milk')]\n"
     ]
    }
   ],
   "source": [
    "print(list(enum))"
   ]
  },
  {
   "cell_type": "code",
   "execution_count": 17,
   "id": "bbeeecf9",
   "metadata": {},
   "outputs": [],
   "source": [
    "#zip:\n",
    "\n",
    "letters = ['a', 'b', 'c']\n",
    "numbers = [1, 2, 3]\n",
    "\n",
    "result = zip()"
   ]
  },
  {
   "cell_type": "code",
   "execution_count": 18,
   "id": "ed9a2163",
   "metadata": {},
   "outputs": [
    {
     "data": {
      "text/plain": [
       "[]"
      ]
     },
     "execution_count": 18,
     "metadata": {},
     "output_type": "execute_result"
    }
   ],
   "source": [
    "list(result)"
   ]
  },
  {
   "cell_type": "code",
   "execution_count": 19,
   "id": "fdfa5530",
   "metadata": {},
   "outputs": [],
   "source": [
    "result = zip(letters, numbers)"
   ]
  },
  {
   "cell_type": "code",
   "execution_count": 20,
   "id": "74ea4719",
   "metadata": {},
   "outputs": [
    {
     "data": {
      "text/plain": [
       "<zip at 0x164ce586c40>"
      ]
     },
     "execution_count": 20,
     "metadata": {},
     "output_type": "execute_result"
    }
   ],
   "source": [
    "result"
   ]
  },
  {
   "cell_type": "code",
   "execution_count": 21,
   "id": "e3bb6ad3",
   "metadata": {},
   "outputs": [
    {
     "data": {
      "text/plain": [
       "{('a', 1), ('b', 2), ('c', 3)}"
      ]
     },
     "execution_count": 21,
     "metadata": {},
     "output_type": "execute_result"
    }
   ],
   "source": [
    "set(result)"
   ]
  },
  {
   "cell_type": "code",
   "execution_count": 25,
   "id": "50bfc101",
   "metadata": {},
   "outputs": [],
   "source": [
    "def add(a, b):\n",
    "    sum1 = a+b\n",
    "    return sum1"
   ]
  },
  {
   "cell_type": "code",
   "execution_count": 23,
   "id": "ba32f2a7",
   "metadata": {},
   "outputs": [
    {
     "data": {
      "text/plain": [
       "9"
      ]
     },
     "execution_count": 23,
     "metadata": {},
     "output_type": "execute_result"
    }
   ],
   "source": [
    "add(5, 4)"
   ]
  },
  {
   "cell_type": "code",
   "execution_count": 26,
   "id": "9c302d11",
   "metadata": {},
   "outputs": [],
   "source": [
    "def add_two_numbers():\n",
    "    \n",
    "    "
   ]
  },
  {
   "cell_type": "code",
   "execution_count": 30,
   "id": "619719c1",
   "metadata": {},
   "outputs": [],
   "source": [
    "#without using return \n",
    "def course(name, course_name):\n",
    "    print(\"hello\", name, 'welcome to  class')\n",
    "    print('your course name: ', course_name)"
   ]
  },
  {
   "cell_type": "code",
   "execution_count": 31,
   "id": "988c4850",
   "metadata": {},
   "outputs": [
    {
     "name": "stdout",
     "output_type": "stream",
     "text": [
      "hello Abhi welcome to  class\n",
      "your course name:  HIT 137\n"
     ]
    }
   ],
   "source": [
    "course('Abhi', 'HIT 137')"
   ]
  },
  {
   "cell_type": "code",
   "execution_count": 32,
   "id": "11e13533",
   "metadata": {},
   "outputs": [],
   "source": [
    "#with return values\n",
    "\n",
    "def square_num(x):\n",
    "    return x*x"
   ]
  },
  {
   "cell_type": "code",
   "execution_count": 34,
   "id": "f458b175",
   "metadata": {},
   "outputs": [],
   "source": [
    "def is_even(list1):\n",
    "    even_num = []\n",
    "    for n in list1:\n",
    "        if n%2 == 0:\n",
    "            even_num.append(n)\n",
    "    return even_num #outside"
   ]
  },
  {
   "cell_type": "code",
   "execution_count": 35,
   "id": "6e145b51",
   "metadata": {},
   "outputs": [],
   "source": [
    "list1 = [1, 4, 8, 10]"
   ]
  },
  {
   "cell_type": "code",
   "execution_count": 37,
   "id": "c2ebaca6",
   "metadata": {},
   "outputs": [],
   "source": [
    "list2 = [10, 12, 14, 15]"
   ]
  },
  {
   "cell_type": "code",
   "execution_count": 38,
   "id": "610d70f1",
   "metadata": {},
   "outputs": [
    {
     "data": {
      "text/plain": [
       "[10, 12, 14]"
      ]
     },
     "execution_count": 38,
     "metadata": {},
     "output_type": "execute_result"
    }
   ],
   "source": [
    "is_even(list2)"
   ]
  },
  {
   "cell_type": "code",
   "execution_count": 39,
   "id": "c84d118e",
   "metadata": {},
   "outputs": [],
   "source": [
    "def calc(num1, num2):\n",
    "    add = num1 + num2\n",
    "    sub = num1 - num2\n",
    "    mul = num1 * num2\n",
    "    \n",
    "    return add, sub, mul"
   ]
  },
  {
   "cell_type": "code",
   "execution_count": 40,
   "id": "365e66d4",
   "metadata": {},
   "outputs": [
    {
     "data": {
      "text/plain": [
       "(6, -2, 8)"
      ]
     },
     "execution_count": 40,
     "metadata": {},
     "output_type": "execute_result"
    }
   ],
   "source": [
    "calc(2, 4)"
   ]
  },
  {
   "cell_type": "code",
   "execution_count": null,
   "id": "ffe6a493",
   "metadata": {},
   "outputs": [],
   "source": [
    "#regular expression\n",
    "#lambda function"
   ]
  },
  {
   "cell_type": "code",
   "execution_count": null,
   "id": "38650bcb",
   "metadata": {},
   "outputs": [],
   "source": []
  }
 ],
 "metadata": {
  "kernelspec": {
   "display_name": "Python 3 (ipykernel)",
   "language": "python",
   "name": "python3"
  },
  "language_info": {
   "codemirror_mode": {
    "name": "ipython",
    "version": 3
   },
   "file_extension": ".py",
   "mimetype": "text/x-python",
   "name": "python",
   "nbconvert_exporter": "python",
   "pygments_lexer": "ipython3",
   "version": "3.9.7"
  }
 },
 "nbformat": 4,
 "nbformat_minor": 5
}
